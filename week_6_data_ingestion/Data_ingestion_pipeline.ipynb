{
  "nbformat": 4,
  "nbformat_minor": 0,
  "metadata": {
    "colab": {
      "name": "Data_ingestion_pipeline.ipynb",
      "provenance": [],
      "collapsed_sections": []
    },
    "kernelspec": {
      "name": "python3",
      "display_name": "Python 3"
    },
    "language_info": {
      "name": "python"
    }
  },
  "cells": [
    {
      "cell_type": "markdown",
      "metadata": {
        "id": "4dMEDZATmFA6"
      },
      "source": [
        "# **File ingestion and schema validation**\n",
        "\n",
        "Take any csv/text file of 2+ GB of your choice. --- (You can do this assignment on Google colab)\n",
        "\n",
        "Read the file ( Present approach of reading the file )\n",
        "\n",
        "Try different methods of file reading eg: Dask, Modin, Ray, pandas and present your findings in term of computational efficiency\n",
        "\n",
        "Perform basic validation on data columns : eg: remove special character , white spaces from the col name\n",
        "\n",
        "As you already know the schema hence create a YAML file and write the column name in YAML file. --define separator of read and write file, column name in YAML\n",
        "\n",
        "Validate number of columns and column name of ingested file with YAML.\n",
        "\n",
        "Write the file in pipe separated text file (|) in gz format.\n",
        "\n",
        "Create a summary of the file:\n",
        "\n",
        "1. Total number of rows,\n",
        "\n",
        "2. total number of columns\n",
        "\n",
        "3. file size\n",
        "\n",
        "dataset [link](https://www.kaggle.com/mkechinov/ecommerce-behavior-data-from-multi-category-store?fbclid=IwAR3Rji50q1WtaHD8By7X-_E6WO52Ksj7SQmulpV7-flbmhQKerdWR1M2cdc&select=2019-Oct.csv)"
      ]
    },
    {
      "cell_type": "markdown",
      "metadata": {
        "id": "V_1SCOixzih1"
      },
      "source": [
        "### **Dataset Grossary**\n",
        "\n",
        "About this file\n",
        "\n",
        "This file contains behavior data for a one month (October 2019) from a large multi-category online store.\n",
        "\n",
        "Each row in the file represents an event. All events are related to products and users. There are different types of events.\n",
        "\n",
        "**Dataset description**\n",
        "\n",
        "1. event_time: When event is was happened (UTC)\n",
        "2. event_type: Event type: one of [view, cart, remove_from_cart, purchase]\n",
        "3. product_id: Product ID\n",
        "4. category_id: Product category ID\n",
        "5. category_code: Category meaningful name (if present)\n",
        "6. brand: Brand name in lower case (if present)\n",
        "7. price: Product price\n",
        "8. user_id: Permanent user ID\n",
        "9. user_session: User session ID"
      ]
    },
    {
      "cell_type": "code",
      "metadata": {
        "colab": {
          "base_uri": "https://localhost:8080/"
        },
        "id": "A-K1c4-S3hJ7",
        "outputId": "53487f43-a36a-4599-ffd2-4386132ee05e"
      },
      "source": [
        "%%writefile testutility.py\n",
        "import logging\n",
        "import os\n",
        "import subprocess\n",
        "import yaml\n",
        "import pandas as pd\n",
        "import datetime \n",
        "import gc\n",
        "import re\n",
        "import yaml\n",
        "\n",
        "#creating a function to read the file\n",
        "def read_config_file(filepath):\n",
        "    with open(filepath, 'r') as stream:\n",
        "        try:\n",
        "            return yaml.safe_load(stream)\n",
        "        except yaml.YAMLError as exc:\n",
        "            logging.error(exc)\n",
        "\n",
        "\n",
        "def replacer(string, char):\n",
        "    pattern = char + '{2,}'\n",
        "    string = re.sub(pattern, char, string) \n",
        "    return string\n",
        "\n",
        "def col_header_val(df,table_config):\n",
        "    '''\n",
        "    replace whitespaces in the column\n",
        "    and standardized column names\n",
        "    '''\n",
        "    df.columns = df.columns.str.lower() # changing all columns to lower case\n",
        "    df.columns = df.columns.str.replace('[^\\w]','_',regex=True)\n",
        "    df.columns = list(map(lambda x: x.strip('_'), list(df.columns)))\n",
        "    df.columns = list(map(lambda x: replacer(x,'_'), list(df.columns)))\n",
        "    expected_col = list(map(lambda x: x.lower(),  table_config['columns']))\n",
        "    df.columns =list(map(lambda x: x.lower(), list(df.columns)))\n",
        "    if len(df.columns) == len(expected_col) and list(expected_col)  == list(df.columns):\n",
        "        print(\"column name and column length validation passed\")\n",
        "        return 1\n",
        "    else:\n",
        "        print(\"column name and column length validation failed\")\n",
        "        mismatched_columns_file = list(set(df.columns).difference(expected_col))\n",
        "        print(\"Following File columns are not in the YAML file\",mismatched_columns_file)\n",
        "        missing_YAML_file = list(set(expected_col).difference(df.columns))\n",
        "        print(\"Following YAML columns are not in the file uploaded\",missing_YAML_file)\n",
        "        logging.info(f'df columns: {df.columns}')\n",
        "        logging.info(f'expected columns: {expected_col}')\n",
        "        return 0"
      ],
      "execution_count": 16,
      "outputs": [
        {
          "output_type": "stream",
          "text": [
            "Overwriting testutility.py\n"
          ],
          "name": "stdout"
        }
      ]
    },
    {
      "cell_type": "code",
      "metadata": {
        "colab": {
          "base_uri": "https://localhost:8080/"
        },
        "id": "C7wsIG2o5eI1",
        "outputId": "eb7fa43e-6d50-4e81-d80f-747bd62ce512"
      },
      "source": [
        "#mounting the drive\n",
        "from google.colab import drive\n",
        "drive.mount('/content/drive/')"
      ],
      "execution_count": 17,
      "outputs": [
        {
          "output_type": "stream",
          "text": [
            "Drive already mounted at /content/drive/; to attempt to forcibly remount, call drive.mount(\"/content/drive/\", force_remount=True).\n"
          ],
          "name": "stdout"
        }
      ]
    },
    {
      "cell_type": "code",
      "metadata": {
        "colab": {
          "base_uri": "https://localhost:8080/"
        },
        "id": "XJXdYF7FOEbY",
        "outputId": "32019d8d-4f8e-4cc2-8cfb-361a19b31c8c"
      },
      "source": [
        "##writing yaml file\n",
        "%%writefile file.yaml\n",
        "file_type: csv\n",
        "dataset_name: testfile\n",
        "file_name: online_trans\n",
        "table_name: edsurv\n",
        "inbound_delimiter: \",\"\n",
        "outbound_delimiter: \"|\"\n",
        "skip_leading_rows: 1\n",
        "columns: \n",
        "    - event_time\n",
        "    - event_type\n",
        "    - product_id\n",
        "    - category_id\n",
        "    - category_code\n",
        "    - brand\n",
        "    - price\n",
        "    - user_id\n",
        "    - user_session"
      ],
      "execution_count": 3,
      "outputs": [
        {
          "output_type": "stream",
          "text": [
            "Writing file.yaml\n"
          ],
          "name": "stdout"
        }
      ]
    },
    {
      "cell_type": "code",
      "metadata": {
        "id": "vPliE7T2WOjO"
      },
      "source": [
        "# Reading the  config file\n",
        "import testutility as util\n",
        "config_data = util.read_config_file(\"file.yaml\")"
      ],
      "execution_count": 23,
      "outputs": []
    },
    {
      "cell_type": "code",
      "metadata": {
        "colab": {
          "base_uri": "https://localhost:8080/",
          "height": 35
        },
        "id": "SbkCuieUXCuN",
        "outputId": "44121ce0-0aee-4f67-9d26-03cf3d638049"
      },
      "source": [
        "#confriming the delimiter\n",
        "config_data['inbound_delimiter']"
      ],
      "execution_count": 24,
      "outputs": [
        {
          "output_type": "execute_result",
          "data": {
            "application/vnd.google.colaboratory.intrinsic+json": {
              "type": "string"
            },
            "text/plain": [
              "','"
            ]
          },
          "metadata": {
            "tags": []
          },
          "execution_count": 24
        }
      ]
    },
    {
      "cell_type": "code",
      "metadata": {
        "colab": {
          "base_uri": "https://localhost:8080/"
        },
        "id": "XSTdsBlZYF_P",
        "outputId": "8ddb2dea-7242-48d5-a936-74a968f4f8b0"
      },
      "source": [
        "# confirming the columnsconfig\n",
        "config_data['columns']"
      ],
      "execution_count": 25,
      "outputs": [
        {
          "output_type": "execute_result",
          "data": {
            "text/plain": [
              "['event_time',\n",
              " 'event_type',\n",
              " 'product_id',\n",
              " 'category_id',\n",
              " 'category_code',\n",
              " 'brand',\n",
              " 'price',\n",
              " 'user_id',\n",
              " 'user_session']"
            ]
          },
          "metadata": {
            "tags": []
          },
          "execution_count": 25
        }
      ]
    },
    {
      "cell_type": "code",
      "metadata": {
        "colab": {
          "base_uri": "https://localhost:8080/"
        },
        "id": "i6pK25NSXXhf",
        "outputId": "86527276-f41d-4e13-d18a-e99be815192e"
      },
      "source": [
        "#inspecting data of config file\n",
        "config_data"
      ],
      "execution_count": 7,
      "outputs": [
        {
          "output_type": "execute_result",
          "data": {
            "text/plain": [
              "{'columns': ['event_time',\n",
              "  'event_type',\n",
              "  'product_id',\n",
              "  'category_id',\n",
              "  'category_code',\n",
              "  'brand',\n",
              "  'price',\n",
              "  'user_id',\n",
              "  'user_session'],\n",
              " 'dataset_name': 'testfile',\n",
              " 'file_name': 'online_trans',\n",
              " 'file_type': 'csv',\n",
              " 'inbound_delimiter': ',',\n",
              " 'outbound_delimiter': '|',\n",
              " 'skip_leading_rows': 1,\n",
              " 'table_name': 'edsurv'}"
            ]
          },
          "metadata": {
            "tags": []
          },
          "execution_count": 7
        }
      ]
    },
    {
      "cell_type": "markdown",
      "metadata": {
        "id": "qD6N1wyAbswG"
      },
      "source": [
        "## **Reading the Files Using different Methods**\n",
        "\n",
        "we will try to load and read the file and check the time taken for the work to be done\n",
        "\n",
        "\n",
        "\n",
        "\n",
        "#### **1. Reading using config file**"
      ]
    },
    {
      "cell_type": "code",
      "metadata": {
        "colab": {
          "base_uri": "https://localhost:8080/"
        },
        "id": "dOlb0PRGKeIW",
        "outputId": "cbbe52c3-ba39-4950-fc29-54a5a5f5ac32"
      },
      "source": [
        "# importing the operating system to get the file path\n",
        "import os\n",
        "print(\"Confirming my file(online_trans.csv) exists: \", os.listdir())\n",
        "print(\"\\n\")\n",
        "print(\"The file directory path is:\",os.getcwd()) # getting the exact file locattion directory"
      ],
      "execution_count": 19,
      "outputs": [
        {
          "output_type": "stream",
          "text": [
            "Confirming my file(online_trans.csv) exists:  ['online_trans.csv', '__pycache__', 'dask-worker-space', 'ecommerce.gz', 'testutility.py', 'file.yaml', 'online_trans.gz', 'trans_online.gz', 'trans_dask.gz']\n",
            "\n",
            "\n",
            "The file directory path is: /content/drive/My Drive/data_glacier_intern\n"
          ],
          "name": "stdout"
        }
      ]
    },
    {
      "cell_type": "code",
      "metadata": {
        "id": "APGQdJiNLFs8"
      },
      "source": [
        "#using an absolute path to open the file:\n",
        "os.chdir(r'/content/drive/MyDrive/data_glacier_intern/')"
      ],
      "execution_count": 20,
      "outputs": []
    },
    {
      "cell_type": "code",
      "metadata": {
        "colab": {
          "base_uri": "https://localhost:8080/"
        },
        "id": "kmnuy-C5H2Mk",
        "outputId": "7a4d0790-8530-4f76-c849-09edfddd93b1"
      },
      "source": [
        "# read the file using config file\n",
        "file_type = config_data['file_type']\n",
        "source_file = \"./\" + config_data['file_name'] + f'.{file_type}'\n",
        "print(\"\",source_file)"
      ],
      "execution_count": 21,
      "outputs": [
        {
          "output_type": "stream",
          "text": [
            " ./online_trans.csv\n"
          ],
          "name": "stdout"
        }
      ]
    },
    {
      "cell_type": "code",
      "metadata": {
        "colab": {
          "base_uri": "https://localhost:8080/",
          "height": 539
        },
        "id": "bqPIxcMyQ6yY",
        "outputId": "3db49adb-33d4-4e5a-b98a-5dd2460299af"
      },
      "source": [
        "#import needed libraries\n",
        "import time\n",
        "import pandas as pd\n",
        "\n",
        "#load and read the dataset\n",
        "start_time = time.time()\n",
        "df = pd.read_csv(source_file,config_data['inbound_delimiter'])\n",
        "end_time = time.time()\n",
        "print(\"config estimated loading time: = {}\".format(end_time-start_time))\n",
        "print(\"\\n\")\n",
        "df.head()"
      ],
      "execution_count": 9,
      "outputs": [
        {
          "output_type": "stream",
          "text": [
            "config estimated loading time: = 139.54040122032166\n",
            "\n",
            "\n"
          ],
          "name": "stdout"
        },
        {
          "output_type": "execute_result",
          "data": {
            "text/html": [
              "<div>\n",
              "<style scoped>\n",
              "    .dataframe tbody tr th:only-of-type {\n",
              "        vertical-align: middle;\n",
              "    }\n",
              "\n",
              "    .dataframe tbody tr th {\n",
              "        vertical-align: top;\n",
              "    }\n",
              "\n",
              "    .dataframe thead th {\n",
              "        text-align: right;\n",
              "    }\n",
              "</style>\n",
              "<table border=\"1\" class=\"dataframe\">\n",
              "  <thead>\n",
              "    <tr style=\"text-align: right;\">\n",
              "      <th></th>\n",
              "      <th>event_time</th>\n",
              "      <th>event_type</th>\n",
              "      <th>product_id</th>\n",
              "      <th>category_id</th>\n",
              "      <th>category_code</th>\n",
              "      <th>brand</th>\n",
              "      <th>price</th>\n",
              "      <th>user_id</th>\n",
              "      <th>user_session</th>\n",
              "    </tr>\n",
              "  </thead>\n",
              "  <tbody>\n",
              "    <tr>\n",
              "      <th>0</th>\n",
              "      <td>2019-10-01 00:00:00 UTC</td>\n",
              "      <td>view</td>\n",
              "      <td>44600062</td>\n",
              "      <td>2103807459595387724</td>\n",
              "      <td>NaN</td>\n",
              "      <td>shiseido</td>\n",
              "      <td>35.79</td>\n",
              "      <td>541312140</td>\n",
              "      <td>72d76fde-8bb3-4e00-8c23-a032dfed738c</td>\n",
              "    </tr>\n",
              "    <tr>\n",
              "      <th>1</th>\n",
              "      <td>2019-10-01 00:00:00 UTC</td>\n",
              "      <td>view</td>\n",
              "      <td>3900821</td>\n",
              "      <td>2053013552326770905</td>\n",
              "      <td>appliances.environment.water_heater</td>\n",
              "      <td>aqua</td>\n",
              "      <td>33.20</td>\n",
              "      <td>554748717</td>\n",
              "      <td>9333dfbd-b87a-4708-9857-6336556b0fcc</td>\n",
              "    </tr>\n",
              "    <tr>\n",
              "      <th>2</th>\n",
              "      <td>2019-10-01 00:00:01 UTC</td>\n",
              "      <td>view</td>\n",
              "      <td>17200506</td>\n",
              "      <td>2053013559792632471</td>\n",
              "      <td>furniture.living_room.sofa</td>\n",
              "      <td>NaN</td>\n",
              "      <td>543.10</td>\n",
              "      <td>519107250</td>\n",
              "      <td>566511c2-e2e3-422b-b695-cf8e6e792ca8</td>\n",
              "    </tr>\n",
              "    <tr>\n",
              "      <th>3</th>\n",
              "      <td>2019-10-01 00:00:01 UTC</td>\n",
              "      <td>view</td>\n",
              "      <td>1307067</td>\n",
              "      <td>2053013558920217191</td>\n",
              "      <td>computers.notebook</td>\n",
              "      <td>lenovo</td>\n",
              "      <td>251.74</td>\n",
              "      <td>550050854</td>\n",
              "      <td>7c90fc70-0e80-4590-96f3-13c02c18c713</td>\n",
              "    </tr>\n",
              "    <tr>\n",
              "      <th>4</th>\n",
              "      <td>2019-10-01 00:00:04 UTC</td>\n",
              "      <td>view</td>\n",
              "      <td>1004237</td>\n",
              "      <td>2053013555631882655</td>\n",
              "      <td>electronics.smartphone</td>\n",
              "      <td>apple</td>\n",
              "      <td>1081.98</td>\n",
              "      <td>535871217</td>\n",
              "      <td>c6bd7419-2748-4c56-95b4-8cec9ff8b80d</td>\n",
              "    </tr>\n",
              "  </tbody>\n",
              "</table>\n",
              "</div>"
            ],
            "text/plain": [
              "                event_time  ...                          user_session\n",
              "0  2019-10-01 00:00:00 UTC  ...  72d76fde-8bb3-4e00-8c23-a032dfed738c\n",
              "1  2019-10-01 00:00:00 UTC  ...  9333dfbd-b87a-4708-9857-6336556b0fcc\n",
              "2  2019-10-01 00:00:01 UTC  ...  566511c2-e2e3-422b-b695-cf8e6e792ca8\n",
              "3  2019-10-01 00:00:01 UTC  ...  7c90fc70-0e80-4590-96f3-13c02c18c713\n",
              "4  2019-10-01 00:00:04 UTC  ...  c6bd7419-2748-4c56-95b4-8cec9ff8b80d\n",
              "\n",
              "[5 rows x 9 columns]"
            ]
          },
          "metadata": {
            "tags": []
          },
          "execution_count": 9
        }
      ]
    },
    {
      "cell_type": "markdown",
      "metadata": {
        "id": "zomEc-BqTk_D"
      },
      "source": [
        "### **Validate number of columns and column name of ingested file with YAML**"
      ]
    },
    {
      "cell_type": "code",
      "metadata": {
        "colab": {
          "base_uri": "https://localhost:8080/"
        },
        "id": "JUTQ0wlWUJ6q",
        "outputId": "b7bee3a2-9a24-406e-8834-207becabe935"
      },
      "source": [
        "#validating the header(columns) of the file\n",
        "util.col_header_val(df,config_data)"
      ],
      "execution_count": 10,
      "outputs": [
        {
          "output_type": "stream",
          "text": [
            "column name and column length validation passed\n"
          ],
          "name": "stdout"
        },
        {
          "output_type": "execute_result",
          "data": {
            "text/plain": [
              "1"
            ]
          },
          "metadata": {
            "tags": []
          },
          "execution_count": 10
        }
      ]
    },
    {
      "cell_type": "code",
      "metadata": {
        "colab": {
          "base_uri": "https://localhost:8080/"
        },
        "id": "gUmam5B-U4kx",
        "outputId": "f78dc271-9e21-4375-ac70-9af235df91d1"
      },
      "source": [
        "print(\"columns of files are:\" ,df.columns)\n",
        "print(\"columns of YAML are:\" ,config_data['columns'])"
      ],
      "execution_count": 13,
      "outputs": [
        {
          "output_type": "stream",
          "text": [
            "columns of files are: Index(['event_time', 'event_type', 'product_id', 'category_id',\n",
            "       'category_code', 'brand', 'price', 'user_id', 'user_session'],\n",
            "      dtype='object')\n",
            "columns of YAML are: ['event_time', 'event_type', 'product_id', 'category_id', 'category_code', 'brand', 'price', 'user_id', 'user_session']\n"
          ],
          "name": "stdout"
        }
      ]
    },
    {
      "cell_type": "code",
      "metadata": {
        "colab": {
          "base_uri": "https://localhost:8080/"
        },
        "id": "0bGcDNR9VEhR",
        "outputId": "fd32944a-fd8b-4e3e-d74b-4bf62dcd5c76"
      },
      "source": [
        "if util.col_header_val(df,config_data)==0:\n",
        "    print(\"validation failed\")\n",
        "    # write code to reject the file\n",
        "else:\n",
        "    print(\"col validation passed\")\n",
        "    # write the code to perform further action\n",
        "    # in the pipleine"
      ],
      "execution_count": 11,
      "outputs": [
        {
          "output_type": "stream",
          "text": [
            "column name and column length validation passed\n",
            "col validation passed\n"
          ],
          "name": "stdout"
        }
      ]
    },
    {
      "cell_type": "code",
      "metadata": {
        "colab": {
          "base_uri": "https://localhost:8080/",
          "height": 960
        },
        "id": "brH6eeKqVg5d",
        "outputId": "b73c65a0-10f9-40e6-979a-6fc0f45fbd75"
      },
      "source": [
        "#checking the dataset features\n",
        "pd.read_csv(\"./online_trans.csv\")\n",
        "\n"
      ],
      "execution_count": 15,
      "outputs": [
        {
          "output_type": "execute_result",
          "data": {
            "text/html": [
              "<div>\n",
              "<style scoped>\n",
              "    .dataframe tbody tr th:only-of-type {\n",
              "        vertical-align: middle;\n",
              "    }\n",
              "\n",
              "    .dataframe tbody tr th {\n",
              "        vertical-align: top;\n",
              "    }\n",
              "\n",
              "    .dataframe thead th {\n",
              "        text-align: right;\n",
              "    }\n",
              "</style>\n",
              "<table border=\"1\" class=\"dataframe\">\n",
              "  <thead>\n",
              "    <tr style=\"text-align: right;\">\n",
              "      <th></th>\n",
              "      <th>event_time</th>\n",
              "      <th>event_type</th>\n",
              "      <th>product_id</th>\n",
              "      <th>category_id</th>\n",
              "      <th>category_code</th>\n",
              "      <th>brand</th>\n",
              "      <th>price</th>\n",
              "      <th>user_id</th>\n",
              "      <th>user_session</th>\n",
              "    </tr>\n",
              "  </thead>\n",
              "  <tbody>\n",
              "    <tr>\n",
              "      <th>0</th>\n",
              "      <td>2019-10-01 00:00:00 UTC</td>\n",
              "      <td>view</td>\n",
              "      <td>44600062</td>\n",
              "      <td>2103807459595387724</td>\n",
              "      <td>NaN</td>\n",
              "      <td>shiseido</td>\n",
              "      <td>35.79</td>\n",
              "      <td>541312140</td>\n",
              "      <td>72d76fde-8bb3-4e00-8c23-a032dfed738c</td>\n",
              "    </tr>\n",
              "    <tr>\n",
              "      <th>1</th>\n",
              "      <td>2019-10-01 00:00:00 UTC</td>\n",
              "      <td>view</td>\n",
              "      <td>3900821</td>\n",
              "      <td>2053013552326770905</td>\n",
              "      <td>appliances.environment.water_heater</td>\n",
              "      <td>aqua</td>\n",
              "      <td>33.20</td>\n",
              "      <td>554748717</td>\n",
              "      <td>9333dfbd-b87a-4708-9857-6336556b0fcc</td>\n",
              "    </tr>\n",
              "    <tr>\n",
              "      <th>2</th>\n",
              "      <td>2019-10-01 00:00:01 UTC</td>\n",
              "      <td>view</td>\n",
              "      <td>17200506</td>\n",
              "      <td>2053013559792632471</td>\n",
              "      <td>furniture.living_room.sofa</td>\n",
              "      <td>NaN</td>\n",
              "      <td>543.10</td>\n",
              "      <td>519107250</td>\n",
              "      <td>566511c2-e2e3-422b-b695-cf8e6e792ca8</td>\n",
              "    </tr>\n",
              "    <tr>\n",
              "      <th>3</th>\n",
              "      <td>2019-10-01 00:00:01 UTC</td>\n",
              "      <td>view</td>\n",
              "      <td>1307067</td>\n",
              "      <td>2053013558920217191</td>\n",
              "      <td>computers.notebook</td>\n",
              "      <td>lenovo</td>\n",
              "      <td>251.74</td>\n",
              "      <td>550050854</td>\n",
              "      <td>7c90fc70-0e80-4590-96f3-13c02c18c713</td>\n",
              "    </tr>\n",
              "    <tr>\n",
              "      <th>4</th>\n",
              "      <td>2019-10-01 00:00:04 UTC</td>\n",
              "      <td>view</td>\n",
              "      <td>1004237</td>\n",
              "      <td>2053013555631882655</td>\n",
              "      <td>electronics.smartphone</td>\n",
              "      <td>apple</td>\n",
              "      <td>1081.98</td>\n",
              "      <td>535871217</td>\n",
              "      <td>c6bd7419-2748-4c56-95b4-8cec9ff8b80d</td>\n",
              "    </tr>\n",
              "    <tr>\n",
              "      <th>...</th>\n",
              "      <td>...</td>\n",
              "      <td>...</td>\n",
              "      <td>...</td>\n",
              "      <td>...</td>\n",
              "      <td>...</td>\n",
              "      <td>...</td>\n",
              "      <td>...</td>\n",
              "      <td>...</td>\n",
              "      <td>...</td>\n",
              "    </tr>\n",
              "    <tr>\n",
              "      <th>42448759</th>\n",
              "      <td>2019-10-31 23:59:58 UTC</td>\n",
              "      <td>view</td>\n",
              "      <td>2300275</td>\n",
              "      <td>2053013560530830019</td>\n",
              "      <td>electronics.camera.video</td>\n",
              "      <td>gopro</td>\n",
              "      <td>527.40</td>\n",
              "      <td>537931532</td>\n",
              "      <td>22c57267-da98-4f28-9a9c-18bb5b385193</td>\n",
              "    </tr>\n",
              "    <tr>\n",
              "      <th>42448760</th>\n",
              "      <td>2019-10-31 23:59:58 UTC</td>\n",
              "      <td>view</td>\n",
              "      <td>10800172</td>\n",
              "      <td>2053013554994348409</td>\n",
              "      <td>NaN</td>\n",
              "      <td>redmond</td>\n",
              "      <td>61.75</td>\n",
              "      <td>527322328</td>\n",
              "      <td>5054190a-46cb-4211-a8f1-16fc1a060ed8</td>\n",
              "    </tr>\n",
              "    <tr>\n",
              "      <th>42448761</th>\n",
              "      <td>2019-10-31 23:59:58 UTC</td>\n",
              "      <td>view</td>\n",
              "      <td>5701038</td>\n",
              "      <td>2053013553970938175</td>\n",
              "      <td>auto.accessories.player</td>\n",
              "      <td>kenwood</td>\n",
              "      <td>128.70</td>\n",
              "      <td>566280422</td>\n",
              "      <td>05b6c62b-992f-4e8e-91f7-961bcb4719cd</td>\n",
              "    </tr>\n",
              "    <tr>\n",
              "      <th>42448762</th>\n",
              "      <td>2019-10-31 23:59:59 UTC</td>\n",
              "      <td>view</td>\n",
              "      <td>21407424</td>\n",
              "      <td>2053013561579406073</td>\n",
              "      <td>electronics.clocks</td>\n",
              "      <td>tissot</td>\n",
              "      <td>689.85</td>\n",
              "      <td>513118352</td>\n",
              "      <td>4c14bf2a-2820-4504-929d-046356a5a204</td>\n",
              "    </tr>\n",
              "    <tr>\n",
              "      <th>42448763</th>\n",
              "      <td>2019-10-31 23:59:59 UTC</td>\n",
              "      <td>view</td>\n",
              "      <td>13300120</td>\n",
              "      <td>2053013557166998015</td>\n",
              "      <td>NaN</td>\n",
              "      <td>swisshome</td>\n",
              "      <td>155.73</td>\n",
              "      <td>525266378</td>\n",
              "      <td>6e57d2d7-6022-46e6-81d6-fa77f14cefd8</td>\n",
              "    </tr>\n",
              "  </tbody>\n",
              "</table>\n",
              "<p>42448764 rows × 9 columns</p>\n",
              "</div>"
            ],
            "text/plain": [
              "                       event_time  ...                          user_session\n",
              "0         2019-10-01 00:00:00 UTC  ...  72d76fde-8bb3-4e00-8c23-a032dfed738c\n",
              "1         2019-10-01 00:00:00 UTC  ...  9333dfbd-b87a-4708-9857-6336556b0fcc\n",
              "2         2019-10-01 00:00:01 UTC  ...  566511c2-e2e3-422b-b695-cf8e6e792ca8\n",
              "3         2019-10-01 00:00:01 UTC  ...  7c90fc70-0e80-4590-96f3-13c02c18c713\n",
              "4         2019-10-01 00:00:04 UTC  ...  c6bd7419-2748-4c56-95b4-8cec9ff8b80d\n",
              "...                           ...  ...                                   ...\n",
              "42448759  2019-10-31 23:59:58 UTC  ...  22c57267-da98-4f28-9a9c-18bb5b385193\n",
              "42448760  2019-10-31 23:59:58 UTC  ...  5054190a-46cb-4211-a8f1-16fc1a060ed8\n",
              "42448761  2019-10-31 23:59:58 UTC  ...  05b6c62b-992f-4e8e-91f7-961bcb4719cd\n",
              "42448762  2019-10-31 23:59:59 UTC  ...  4c14bf2a-2820-4504-929d-046356a5a204\n",
              "42448763  2019-10-31 23:59:59 UTC  ...  6e57d2d7-6022-46e6-81d6-fa77f14cefd8\n",
              "\n",
              "[42448764 rows x 9 columns]"
            ]
          },
          "metadata": {
            "tags": []
          },
          "execution_count": 15
        }
      ]
    },
    {
      "cell_type": "code",
      "metadata": {
        "colab": {
          "base_uri": "https://localhost:8080/",
          "height": 960
        },
        "id": "i6cIMNkIVqTC",
        "outputId": "0f0a0187-f593-4e8a-bf8c-76fee62b8cef"
      },
      "source": [
        "#checking the created Yaml dataframe features\n",
        "df"
      ],
      "execution_count": 16,
      "outputs": [
        {
          "output_type": "execute_result",
          "data": {
            "text/html": [
              "<div>\n",
              "<style scoped>\n",
              "    .dataframe tbody tr th:only-of-type {\n",
              "        vertical-align: middle;\n",
              "    }\n",
              "\n",
              "    .dataframe tbody tr th {\n",
              "        vertical-align: top;\n",
              "    }\n",
              "\n",
              "    .dataframe thead th {\n",
              "        text-align: right;\n",
              "    }\n",
              "</style>\n",
              "<table border=\"1\" class=\"dataframe\">\n",
              "  <thead>\n",
              "    <tr style=\"text-align: right;\">\n",
              "      <th></th>\n",
              "      <th>event_time</th>\n",
              "      <th>event_type</th>\n",
              "      <th>product_id</th>\n",
              "      <th>category_id</th>\n",
              "      <th>category_code</th>\n",
              "      <th>brand</th>\n",
              "      <th>price</th>\n",
              "      <th>user_id</th>\n",
              "      <th>user_session</th>\n",
              "    </tr>\n",
              "  </thead>\n",
              "  <tbody>\n",
              "    <tr>\n",
              "      <th>0</th>\n",
              "      <td>2019-10-01 00:00:00 UTC</td>\n",
              "      <td>view</td>\n",
              "      <td>44600062</td>\n",
              "      <td>2103807459595387724</td>\n",
              "      <td>NaN</td>\n",
              "      <td>shiseido</td>\n",
              "      <td>35.79</td>\n",
              "      <td>541312140</td>\n",
              "      <td>72d76fde-8bb3-4e00-8c23-a032dfed738c</td>\n",
              "    </tr>\n",
              "    <tr>\n",
              "      <th>1</th>\n",
              "      <td>2019-10-01 00:00:00 UTC</td>\n",
              "      <td>view</td>\n",
              "      <td>3900821</td>\n",
              "      <td>2053013552326770905</td>\n",
              "      <td>appliances.environment.water_heater</td>\n",
              "      <td>aqua</td>\n",
              "      <td>33.20</td>\n",
              "      <td>554748717</td>\n",
              "      <td>9333dfbd-b87a-4708-9857-6336556b0fcc</td>\n",
              "    </tr>\n",
              "    <tr>\n",
              "      <th>2</th>\n",
              "      <td>2019-10-01 00:00:01 UTC</td>\n",
              "      <td>view</td>\n",
              "      <td>17200506</td>\n",
              "      <td>2053013559792632471</td>\n",
              "      <td>furniture.living_room.sofa</td>\n",
              "      <td>NaN</td>\n",
              "      <td>543.10</td>\n",
              "      <td>519107250</td>\n",
              "      <td>566511c2-e2e3-422b-b695-cf8e6e792ca8</td>\n",
              "    </tr>\n",
              "    <tr>\n",
              "      <th>3</th>\n",
              "      <td>2019-10-01 00:00:01 UTC</td>\n",
              "      <td>view</td>\n",
              "      <td>1307067</td>\n",
              "      <td>2053013558920217191</td>\n",
              "      <td>computers.notebook</td>\n",
              "      <td>lenovo</td>\n",
              "      <td>251.74</td>\n",
              "      <td>550050854</td>\n",
              "      <td>7c90fc70-0e80-4590-96f3-13c02c18c713</td>\n",
              "    </tr>\n",
              "    <tr>\n",
              "      <th>4</th>\n",
              "      <td>2019-10-01 00:00:04 UTC</td>\n",
              "      <td>view</td>\n",
              "      <td>1004237</td>\n",
              "      <td>2053013555631882655</td>\n",
              "      <td>electronics.smartphone</td>\n",
              "      <td>apple</td>\n",
              "      <td>1081.98</td>\n",
              "      <td>535871217</td>\n",
              "      <td>c6bd7419-2748-4c56-95b4-8cec9ff8b80d</td>\n",
              "    </tr>\n",
              "    <tr>\n",
              "      <th>...</th>\n",
              "      <td>...</td>\n",
              "      <td>...</td>\n",
              "      <td>...</td>\n",
              "      <td>...</td>\n",
              "      <td>...</td>\n",
              "      <td>...</td>\n",
              "      <td>...</td>\n",
              "      <td>...</td>\n",
              "      <td>...</td>\n",
              "    </tr>\n",
              "    <tr>\n",
              "      <th>42448759</th>\n",
              "      <td>2019-10-31 23:59:58 UTC</td>\n",
              "      <td>view</td>\n",
              "      <td>2300275</td>\n",
              "      <td>2053013560530830019</td>\n",
              "      <td>electronics.camera.video</td>\n",
              "      <td>gopro</td>\n",
              "      <td>527.40</td>\n",
              "      <td>537931532</td>\n",
              "      <td>22c57267-da98-4f28-9a9c-18bb5b385193</td>\n",
              "    </tr>\n",
              "    <tr>\n",
              "      <th>42448760</th>\n",
              "      <td>2019-10-31 23:59:58 UTC</td>\n",
              "      <td>view</td>\n",
              "      <td>10800172</td>\n",
              "      <td>2053013554994348409</td>\n",
              "      <td>NaN</td>\n",
              "      <td>redmond</td>\n",
              "      <td>61.75</td>\n",
              "      <td>527322328</td>\n",
              "      <td>5054190a-46cb-4211-a8f1-16fc1a060ed8</td>\n",
              "    </tr>\n",
              "    <tr>\n",
              "      <th>42448761</th>\n",
              "      <td>2019-10-31 23:59:58 UTC</td>\n",
              "      <td>view</td>\n",
              "      <td>5701038</td>\n",
              "      <td>2053013553970938175</td>\n",
              "      <td>auto.accessories.player</td>\n",
              "      <td>kenwood</td>\n",
              "      <td>128.70</td>\n",
              "      <td>566280422</td>\n",
              "      <td>05b6c62b-992f-4e8e-91f7-961bcb4719cd</td>\n",
              "    </tr>\n",
              "    <tr>\n",
              "      <th>42448762</th>\n",
              "      <td>2019-10-31 23:59:59 UTC</td>\n",
              "      <td>view</td>\n",
              "      <td>21407424</td>\n",
              "      <td>2053013561579406073</td>\n",
              "      <td>electronics.clocks</td>\n",
              "      <td>tissot</td>\n",
              "      <td>689.85</td>\n",
              "      <td>513118352</td>\n",
              "      <td>4c14bf2a-2820-4504-929d-046356a5a204</td>\n",
              "    </tr>\n",
              "    <tr>\n",
              "      <th>42448763</th>\n",
              "      <td>2019-10-31 23:59:59 UTC</td>\n",
              "      <td>view</td>\n",
              "      <td>13300120</td>\n",
              "      <td>2053013557166998015</td>\n",
              "      <td>NaN</td>\n",
              "      <td>swisshome</td>\n",
              "      <td>155.73</td>\n",
              "      <td>525266378</td>\n",
              "      <td>6e57d2d7-6022-46e6-81d6-fa77f14cefd8</td>\n",
              "    </tr>\n",
              "  </tbody>\n",
              "</table>\n",
              "<p>42448764 rows × 9 columns</p>\n",
              "</div>"
            ],
            "text/plain": [
              "                       event_time  ...                          user_session\n",
              "0         2019-10-01 00:00:00 UTC  ...  72d76fde-8bb3-4e00-8c23-a032dfed738c\n",
              "1         2019-10-01 00:00:00 UTC  ...  9333dfbd-b87a-4708-9857-6336556b0fcc\n",
              "2         2019-10-01 00:00:01 UTC  ...  566511c2-e2e3-422b-b695-cf8e6e792ca8\n",
              "3         2019-10-01 00:00:01 UTC  ...  7c90fc70-0e80-4590-96f3-13c02c18c713\n",
              "4         2019-10-01 00:00:04 UTC  ...  c6bd7419-2748-4c56-95b4-8cec9ff8b80d\n",
              "...                           ...  ...                                   ...\n",
              "42448759  2019-10-31 23:59:58 UTC  ...  22c57267-da98-4f28-9a9c-18bb5b385193\n",
              "42448760  2019-10-31 23:59:58 UTC  ...  5054190a-46cb-4211-a8f1-16fc1a060ed8\n",
              "42448761  2019-10-31 23:59:58 UTC  ...  05b6c62b-992f-4e8e-91f7-961bcb4719cd\n",
              "42448762  2019-10-31 23:59:59 UTC  ...  4c14bf2a-2820-4504-929d-046356a5a204\n",
              "42448763  2019-10-31 23:59:59 UTC  ...  6e57d2d7-6022-46e6-81d6-fa77f14cefd8\n",
              "\n",
              "[42448764 rows x 9 columns]"
            ]
          },
          "metadata": {
            "tags": []
          },
          "execution_count": 16
        }
      ]
    },
    {
      "cell_type": "markdown",
      "metadata": {
        "id": "kYddGosuwhCT"
      },
      "source": [
        "## 2. loading and reading the dataset using pandas"
      ]
    },
    {
      "cell_type": "code",
      "metadata": {
        "id": "dh_iSfqXv7-X"
      },
      "source": [
        "#importing libraries\n",
        "import pandas as pd\n",
        "import numpy as np\n",
        "import time # used to estimate time it takes to load"
      ],
      "execution_count": 1,
      "outputs": []
    },
    {
      "cell_type": "code",
      "metadata": {
        "id": "gkRZEfnqxBUd",
        "colab": {
          "base_uri": "https://localhost:8080/",
          "height": 539
        },
        "outputId": "ac75e814-7fe4-4976-ec8d-23fb01c4b0d9"
      },
      "source": [
        "#1.loading the dataset\n",
        "start_time = time.time()\n",
        "trans_pandas = pd.read_csv(\"/content/drive/MyDrive/data_glacier_intern/online_trans.csv\", delimiter=',')\n",
        "end_time = time.time()\n",
        "print(\"estimated pandas loading time: = {}\".format(end_time-start_time)) #use format method for computing time difference\n",
        "print(\"\\n\")\n",
        "\n",
        "#checking the first 5 rows\n",
        "trans_pandas.head()\n"
      ],
      "execution_count": 2,
      "outputs": [
        {
          "output_type": "stream",
          "text": [
            "estimated pandas loading time: = 172.76540398597717\n",
            "\n",
            "\n"
          ],
          "name": "stdout"
        },
        {
          "output_type": "execute_result",
          "data": {
            "text/html": [
              "<div>\n",
              "<style scoped>\n",
              "    .dataframe tbody tr th:only-of-type {\n",
              "        vertical-align: middle;\n",
              "    }\n",
              "\n",
              "    .dataframe tbody tr th {\n",
              "        vertical-align: top;\n",
              "    }\n",
              "\n",
              "    .dataframe thead th {\n",
              "        text-align: right;\n",
              "    }\n",
              "</style>\n",
              "<table border=\"1\" class=\"dataframe\">\n",
              "  <thead>\n",
              "    <tr style=\"text-align: right;\">\n",
              "      <th></th>\n",
              "      <th>event_time</th>\n",
              "      <th>event_type</th>\n",
              "      <th>product_id</th>\n",
              "      <th>category_id</th>\n",
              "      <th>category_code</th>\n",
              "      <th>brand</th>\n",
              "      <th>price</th>\n",
              "      <th>user_id</th>\n",
              "      <th>user_session</th>\n",
              "    </tr>\n",
              "  </thead>\n",
              "  <tbody>\n",
              "    <tr>\n",
              "      <th>0</th>\n",
              "      <td>2019-10-01 00:00:00 UTC</td>\n",
              "      <td>view</td>\n",
              "      <td>44600062</td>\n",
              "      <td>2103807459595387724</td>\n",
              "      <td>NaN</td>\n",
              "      <td>shiseido</td>\n",
              "      <td>35.79</td>\n",
              "      <td>541312140</td>\n",
              "      <td>72d76fde-8bb3-4e00-8c23-a032dfed738c</td>\n",
              "    </tr>\n",
              "    <tr>\n",
              "      <th>1</th>\n",
              "      <td>2019-10-01 00:00:00 UTC</td>\n",
              "      <td>view</td>\n",
              "      <td>3900821</td>\n",
              "      <td>2053013552326770905</td>\n",
              "      <td>appliances.environment.water_heater</td>\n",
              "      <td>aqua</td>\n",
              "      <td>33.20</td>\n",
              "      <td>554748717</td>\n",
              "      <td>9333dfbd-b87a-4708-9857-6336556b0fcc</td>\n",
              "    </tr>\n",
              "    <tr>\n",
              "      <th>2</th>\n",
              "      <td>2019-10-01 00:00:01 UTC</td>\n",
              "      <td>view</td>\n",
              "      <td>17200506</td>\n",
              "      <td>2053013559792632471</td>\n",
              "      <td>furniture.living_room.sofa</td>\n",
              "      <td>NaN</td>\n",
              "      <td>543.10</td>\n",
              "      <td>519107250</td>\n",
              "      <td>566511c2-e2e3-422b-b695-cf8e6e792ca8</td>\n",
              "    </tr>\n",
              "    <tr>\n",
              "      <th>3</th>\n",
              "      <td>2019-10-01 00:00:01 UTC</td>\n",
              "      <td>view</td>\n",
              "      <td>1307067</td>\n",
              "      <td>2053013558920217191</td>\n",
              "      <td>computers.notebook</td>\n",
              "      <td>lenovo</td>\n",
              "      <td>251.74</td>\n",
              "      <td>550050854</td>\n",
              "      <td>7c90fc70-0e80-4590-96f3-13c02c18c713</td>\n",
              "    </tr>\n",
              "    <tr>\n",
              "      <th>4</th>\n",
              "      <td>2019-10-01 00:00:04 UTC</td>\n",
              "      <td>view</td>\n",
              "      <td>1004237</td>\n",
              "      <td>2053013555631882655</td>\n",
              "      <td>electronics.smartphone</td>\n",
              "      <td>apple</td>\n",
              "      <td>1081.98</td>\n",
              "      <td>535871217</td>\n",
              "      <td>c6bd7419-2748-4c56-95b4-8cec9ff8b80d</td>\n",
              "    </tr>\n",
              "  </tbody>\n",
              "</table>\n",
              "</div>"
            ],
            "text/plain": [
              "                event_time  ...                          user_session\n",
              "0  2019-10-01 00:00:00 UTC  ...  72d76fde-8bb3-4e00-8c23-a032dfed738c\n",
              "1  2019-10-01 00:00:00 UTC  ...  9333dfbd-b87a-4708-9857-6336556b0fcc\n",
              "2  2019-10-01 00:00:01 UTC  ...  566511c2-e2e3-422b-b695-cf8e6e792ca8\n",
              "3  2019-10-01 00:00:01 UTC  ...  7c90fc70-0e80-4590-96f3-13c02c18c713\n",
              "4  2019-10-01 00:00:04 UTC  ...  c6bd7419-2748-4c56-95b4-8cec9ff8b80d\n",
              "\n",
              "[5 rows x 9 columns]"
            ]
          },
          "metadata": {
            "tags": []
          },
          "execution_count": 2
        }
      ]
    },
    {
      "cell_type": "markdown",
      "metadata": {
        "id": "lK6y9nML5RxT"
      },
      "source": [
        "## 3. loading and reading dataset using Dask"
      ]
    },
    {
      "cell_type": "code",
      "metadata": {
        "colab": {
          "base_uri": "https://localhost:8080/",
          "height": 830
        },
        "id": "-qsS8FLu5RCE",
        "outputId": "344f63df-94a6-417e-ebf7-6ada6ca18469"
      },
      "source": [
        "#install dask dataframe first and then import library\n",
        "!pip install \"dask[dataframe]\"\n",
        "import dask.dataframe as dd\n",
        "import time\n",
        "\n",
        "#loading the dataset\n",
        "start_time = time.time()\n",
        "trans_dask = dd.read_csv(\"/content/drive/MyDrive/data_glacier_intern/online_trans.csv\", delimiter=',')\n",
        "end_time = time.time()\n",
        "print(\"dask estimated loading time: = {}\".format(end_time-start_time))\n",
        "print(\"\\n\") #break\n",
        "\n",
        "#getting the first 5 colums\n",
        "trans_dask.head()\n"
      ],
      "execution_count": 28,
      "outputs": [
        {
          "output_type": "stream",
          "text": [
            "Requirement already satisfied: dask[dataframe] in /usr/local/lib/python3.7/dist-packages (2.12.0)\n",
            "Collecting fsspec>=0.6.0; extra == \"dataframe\"\n",
            "\u001b[?25l  Downloading https://files.pythonhosted.org/packages/40/e1/7111d8afc76ee3171f4f99592cd29bac9d233ae1aa34623011506f955434/fsspec-2021.7.0-py3-none-any.whl (118kB)\n",
            "\u001b[K     |████████████████████████████████| 122kB 8.7MB/s \n",
            "\u001b[?25hCollecting partd>=0.3.10; extra == \"dataframe\"\n",
            "  Downloading https://files.pythonhosted.org/packages/41/94/360258a68b55f47859d72b2d0b2b3cfe0ca4fbbcb81b78812bd00ae86b7c/partd-1.2.0-py3-none-any.whl\n",
            "Requirement already satisfied: pandas>=0.23.0; extra == \"dataframe\" in /usr/local/lib/python3.7/dist-packages (from dask[dataframe]) (1.1.5)\n",
            "Requirement already satisfied: toolz>=0.7.3; extra == \"dataframe\" in /usr/local/lib/python3.7/dist-packages (from dask[dataframe]) (0.11.1)\n",
            "Requirement already satisfied: numpy>=1.13.0; extra == \"dataframe\" in /usr/local/lib/python3.7/dist-packages (from dask[dataframe]) (1.19.5)\n",
            "Collecting locket\n",
            "  Downloading https://files.pythonhosted.org/packages/50/b8/e789e45b9b9c2db75e9d9e6ceb022c8d1d7e49b2c085ce8c05600f90a96b/locket-0.2.1-py2.py3-none-any.whl\n",
            "Requirement already satisfied: pytz>=2017.2 in /usr/local/lib/python3.7/dist-packages (from pandas>=0.23.0; extra == \"dataframe\"->dask[dataframe]) (2018.9)\n",
            "Requirement already satisfied: python-dateutil>=2.7.3 in /usr/local/lib/python3.7/dist-packages (from pandas>=0.23.0; extra == \"dataframe\"->dask[dataframe]) (2.8.1)\n",
            "Requirement already satisfied: six>=1.5 in /usr/local/lib/python3.7/dist-packages (from python-dateutil>=2.7.3->pandas>=0.23.0; extra == \"dataframe\"->dask[dataframe]) (1.15.0)\n",
            "Installing collected packages: fsspec, locket, partd\n",
            "Successfully installed fsspec-2021.7.0 locket-0.2.1 partd-1.2.0\n",
            "dask estimated loading time: = 0.24152302742004395\n",
            "\n",
            "\n"
          ],
          "name": "stdout"
        },
        {
          "output_type": "execute_result",
          "data": {
            "text/html": [
              "<div>\n",
              "<style scoped>\n",
              "    .dataframe tbody tr th:only-of-type {\n",
              "        vertical-align: middle;\n",
              "    }\n",
              "\n",
              "    .dataframe tbody tr th {\n",
              "        vertical-align: top;\n",
              "    }\n",
              "\n",
              "    .dataframe thead th {\n",
              "        text-align: right;\n",
              "    }\n",
              "</style>\n",
              "<table border=\"1\" class=\"dataframe\">\n",
              "  <thead>\n",
              "    <tr style=\"text-align: right;\">\n",
              "      <th></th>\n",
              "      <th>event_time</th>\n",
              "      <th>event_type</th>\n",
              "      <th>product_id</th>\n",
              "      <th>category_id</th>\n",
              "      <th>category_code</th>\n",
              "      <th>brand</th>\n",
              "      <th>price</th>\n",
              "      <th>user_id</th>\n",
              "      <th>user_session</th>\n",
              "    </tr>\n",
              "  </thead>\n",
              "  <tbody>\n",
              "    <tr>\n",
              "      <th>0</th>\n",
              "      <td>2019-10-01 00:00:00 UTC</td>\n",
              "      <td>view</td>\n",
              "      <td>44600062</td>\n",
              "      <td>2103807459595387724</td>\n",
              "      <td>NaN</td>\n",
              "      <td>shiseido</td>\n",
              "      <td>35.79</td>\n",
              "      <td>541312140</td>\n",
              "      <td>72d76fde-8bb3-4e00-8c23-a032dfed738c</td>\n",
              "    </tr>\n",
              "    <tr>\n",
              "      <th>1</th>\n",
              "      <td>2019-10-01 00:00:00 UTC</td>\n",
              "      <td>view</td>\n",
              "      <td>3900821</td>\n",
              "      <td>2053013552326770905</td>\n",
              "      <td>appliances.environment.water_heater</td>\n",
              "      <td>aqua</td>\n",
              "      <td>33.20</td>\n",
              "      <td>554748717</td>\n",
              "      <td>9333dfbd-b87a-4708-9857-6336556b0fcc</td>\n",
              "    </tr>\n",
              "    <tr>\n",
              "      <th>2</th>\n",
              "      <td>2019-10-01 00:00:01 UTC</td>\n",
              "      <td>view</td>\n",
              "      <td>17200506</td>\n",
              "      <td>2053013559792632471</td>\n",
              "      <td>furniture.living_room.sofa</td>\n",
              "      <td>NaN</td>\n",
              "      <td>543.10</td>\n",
              "      <td>519107250</td>\n",
              "      <td>566511c2-e2e3-422b-b695-cf8e6e792ca8</td>\n",
              "    </tr>\n",
              "    <tr>\n",
              "      <th>3</th>\n",
              "      <td>2019-10-01 00:00:01 UTC</td>\n",
              "      <td>view</td>\n",
              "      <td>1307067</td>\n",
              "      <td>2053013558920217191</td>\n",
              "      <td>computers.notebook</td>\n",
              "      <td>lenovo</td>\n",
              "      <td>251.74</td>\n",
              "      <td>550050854</td>\n",
              "      <td>7c90fc70-0e80-4590-96f3-13c02c18c713</td>\n",
              "    </tr>\n",
              "    <tr>\n",
              "      <th>4</th>\n",
              "      <td>2019-10-01 00:00:04 UTC</td>\n",
              "      <td>view</td>\n",
              "      <td>1004237</td>\n",
              "      <td>2053013555631882655</td>\n",
              "      <td>electronics.smartphone</td>\n",
              "      <td>apple</td>\n",
              "      <td>1081.98</td>\n",
              "      <td>535871217</td>\n",
              "      <td>c6bd7419-2748-4c56-95b4-8cec9ff8b80d</td>\n",
              "    </tr>\n",
              "  </tbody>\n",
              "</table>\n",
              "</div>"
            ],
            "text/plain": [
              "                event_time  ...                          user_session\n",
              "0  2019-10-01 00:00:00 UTC  ...  72d76fde-8bb3-4e00-8c23-a032dfed738c\n",
              "1  2019-10-01 00:00:00 UTC  ...  9333dfbd-b87a-4708-9857-6336556b0fcc\n",
              "2  2019-10-01 00:00:01 UTC  ...  566511c2-e2e3-422b-b695-cf8e6e792ca8\n",
              "3  2019-10-01 00:00:01 UTC  ...  7c90fc70-0e80-4590-96f3-13c02c18c713\n",
              "4  2019-10-01 00:00:04 UTC  ...  c6bd7419-2748-4c56-95b4-8cec9ff8b80d\n",
              "\n",
              "[5 rows x 9 columns]"
            ]
          },
          "metadata": {
            "tags": []
          },
          "execution_count": 28
        }
      ]
    },
    {
      "cell_type": "markdown",
      "metadata": {
        "id": "cjWPRcxSAKMz"
      },
      "source": [
        "## 4. loading and reading the dataset using Datatable\n"
      ]
    },
    {
      "cell_type": "code",
      "metadata": {
        "id": "Fv6lrODKAq1e"
      },
      "source": [
        "#istalling and importing required library\n",
        "#!pip install pip --upgrade\n",
        "#!pip install datatable"
      ],
      "execution_count": null,
      "outputs": []
    },
    {
      "cell_type": "code",
      "metadata": {
        "id": "olUnlVmp_9Jl",
        "colab": {
          "base_uri": "https://localhost:8080/",
          "height": 864
        },
        "outputId": "11d26fb0-8c32-4cdb-8e6b-a7c4331b2e57"
      },
      "source": [
        "#importing the library \n",
        "import datatable as dt\n",
        "import time\n",
        "\n",
        "#loading using datatable\n",
        "start_time = time.time()\n",
        "trans_datatable = dt.fread(\"/content/drive/MyDrive/data_glacier_intern/online_trans.csv\")\n",
        "end_time = time.time()\n",
        "print(\"datatable estimated loading time: = {}\".format(end_time-start_time))\n",
        "print(\"\\n\") #break\n",
        "\n",
        "#getting the first 5 colums\n",
        "trans_datatable.head()"
      ],
      "execution_count": 7,
      "outputs": [
        {
          "output_type": "display_data",
          "data": {
            "text/html": [
              "<style type='text/css'>\n",
              ".datatable table.frame { margin-bottom: 0; }\n",
              ".datatable table.frame thead { border-bottom: none; }\n",
              ".datatable table.frame tr.coltypes td {  color: #FFFFFF;  line-height: 6px;  padding: 0 0.5em;}\n",
              ".datatable .bool    { background: #DDDD99; }\n",
              ".datatable .object  { background: #565656; }\n",
              ".datatable .int     { background: #5D9E5D; }\n",
              ".datatable .float   { background: #4040CC; }\n",
              ".datatable .str     { background: #CC4040; }\n",
              ".datatable .time    { background: #40CC40; }\n",
              ".datatable .row_index {  background: var(--jp-border-color3);  border-right: 1px solid var(--jp-border-color0);  color: var(--jp-ui-font-color3);  font-size: 9px;}\n",
              ".datatable .frame tbody td { text-align: left; }\n",
              ".datatable .frame tr.coltypes .row_index {  background: var(--jp-border-color0);}\n",
              ".datatable th:nth-child(2) { padding-left: 12px; }\n",
              ".datatable .hellipsis {  color: var(--jp-cell-editor-border-color);}\n",
              ".datatable .vellipsis {  background: var(--jp-layout-color0);  color: var(--jp-cell-editor-border-color);}\n",
              ".datatable .na {  color: var(--jp-cell-editor-border-color);  font-size: 80%;}\n",
              ".datatable .sp {  opacity: 0.25;}\n",
              ".datatable .footer { font-size: 9px; }\n",
              ".datatable .frame_dimensions {  background: var(--jp-border-color3);  border-top: 1px solid var(--jp-border-color0);  color: var(--jp-ui-font-color3);  display: inline-block;  opacity: 0.6;  padding: 1px 10px 1px 5px;}\n",
              "</style>\n"
            ],
            "text/plain": [
              "<IPython.core.display.HTML object>"
            ]
          },
          "metadata": {
            "tags": []
          }
        },
        {
          "output_type": "stream",
          "text": [
            "datatable estimated loading time: = 158.11506295204163\n",
            "\n",
            "\n"
          ],
          "name": "stdout"
        },
        {
          "output_type": "execute_result",
          "data": {
            "text/html": [
              "<div class='datatable'>\n",
              "  <table class='frame'>\n",
              "  <thead>\n",
              "    <tr class='colnames'><td class='row_index'></td><th>event_time</th><th>event_type</th><th>product_id</th><th>category_id</th><th>category_code</th><th>brand</th><th>price</th><th>user_id</th><th>user_session</th></tr>\n",
              "    <tr class='coltypes'><td class='row_index'></td><td class='str' title='str32'>&#x25AA;&#x25AA;&#x25AA;&#x25AA;</td><td class='str' title='str32'>&#x25AA;&#x25AA;&#x25AA;&#x25AA;</td><td class='int' title='int32'>&#x25AA;&#x25AA;&#x25AA;&#x25AA;</td><td class='int' title='int64'>&#x25AA;&#x25AA;&#x25AA;&#x25AA;&#x25AA;&#x25AA;&#x25AA;&#x25AA;</td><td class='str' title='str32'>&#x25AA;&#x25AA;&#x25AA;&#x25AA;</td><td class='str' title='str32'>&#x25AA;&#x25AA;&#x25AA;&#x25AA;</td><td class='float' title='float64'>&#x25AA;&#x25AA;&#x25AA;&#x25AA;&#x25AA;&#x25AA;&#x25AA;&#x25AA;</td><td class='int' title='int32'>&#x25AA;&#x25AA;&#x25AA;&#x25AA;</td><td class='str' title='str32'>&#x25AA;&#x25AA;&#x25AA;&#x25AA;</td></tr>\n",
              "  </thead>\n",
              "  <tbody>\n",
              "    <tr><td class='row_index'>0</td><td>2019-10-01 00:00:00 UTC</td><td>view</td><td>44600062</td><td>2103807459595387724</td><td></td><td>shiseido</td><td>35.79</td><td>541312140</td><td>72d76fde-8bb3-4e00-8c23-a032dfed738c</td></tr>\n",
              "    <tr><td class='row_index'>1</td><td>2019-10-01 00:00:00 UTC</td><td>view</td><td>3900821</td><td>2053013552326770905</td><td>appliances.environment.water_heater</td><td>aqua</td><td>33.2</td><td>554748717</td><td>9333dfbd-b87a-4708-9857-6336556b0fcc</td></tr>\n",
              "    <tr><td class='row_index'>2</td><td>2019-10-01 00:00:01 UTC</td><td>view</td><td>17200506</td><td>2053013559792632471</td><td>furniture.living_room.sofa</td><td></td><td>543.1</td><td>519107250</td><td>566511c2-e2e3-422b-b695-cf8e6e792ca8</td></tr>\n",
              "    <tr><td class='row_index'>3</td><td>2019-10-01 00:00:01 UTC</td><td>view</td><td>1307067</td><td>2053013558920217191</td><td>computers.notebook</td><td>lenovo</td><td>251.74</td><td>550050854</td><td>7c90fc70-0e80-4590-96f3-13c02c18c713</td></tr>\n",
              "    <tr><td class='row_index'>4</td><td>2019-10-01 00:00:04 UTC</td><td>view</td><td>1004237</td><td>2053013555631882655</td><td>electronics.smartphone</td><td>apple</td><td>1081.98</td><td>535871217</td><td>c6bd7419-2748-4c56-95b4-8cec9ff8b80d</td></tr>\n",
              "    <tr><td class='row_index'>5</td><td>2019-10-01 00:00:05 UTC</td><td>view</td><td>1480613</td><td>2053013561092866779</td><td>computers.desktop</td><td>pulser</td><td>908.62</td><td>512742880</td><td>0d0d91c2-c9c2-4e81-90a5-86594dec0db9</td></tr>\n",
              "    <tr><td class='row_index'>6</td><td>2019-10-01 00:00:08 UTC</td><td>view</td><td>17300353</td><td>2053013553853497655</td><td></td><td>creed</td><td>380.96</td><td>555447699</td><td>4fe811e9-91de-46da-90c3-bbd87ed3a65d</td></tr>\n",
              "    <tr><td class='row_index'>7</td><td>2019-10-01 00:00:08 UTC</td><td>view</td><td>31500053</td><td>2053013558031024687</td><td></td><td>luminarc</td><td>41.16</td><td>550978835</td><td>6280d577-25c8-4147-99a7-abc6048498d6</td></tr>\n",
              "    <tr><td class='row_index'>8</td><td>2019-10-01 00:00:10 UTC</td><td>view</td><td>28719074</td><td>2053013565480109009</td><td>apparel.shoes.keds</td><td>baden</td><td>102.71</td><td>520571932</td><td>ac1cd4e5-a3ce-4224-a2d7-ff660a105880</td></tr>\n",
              "    <tr><td class='row_index'>9</td><td>2019-10-01 00:00:11 UTC</td><td>view</td><td>1004545</td><td>2053013555631882655</td><td>electronics.smartphone</td><td>huawei</td><td>566.01</td><td>537918940</td><td>406c46ed-90a4-4787-a43b-59a410c1a5fb</td></tr>\n",
              "  </tbody>\n",
              "  </table>\n",
              "  <div class='footer'>\n",
              "    <div class='frame_dimensions'>10 rows &times; 9 columns</div>\n",
              "  </div>\n",
              "</div>\n"
            ],
            "text/plain": [
              "<Frame#7fc08b61cfc0 10x9>"
            ]
          },
          "metadata": {
            "tags": []
          },
          "execution_count": 7
        }
      ]
    },
    {
      "cell_type": "markdown",
      "metadata": {
        "id": "WG7YFuqkm1g2"
      },
      "source": [
        "## 5. loading and reading file using Modin and rays\n"
      ]
    },
    {
      "cell_type": "code",
      "metadata": {
        "id": "AfnaWr4cmzuS"
      },
      "source": [
        "'''\n",
        "#installing the required libraries\n",
        "#!pip install modin[all] #use pip install modin[dask] for dask, or pip install modin[ray] for ray. \n",
        "#or pip install modin[all] . this install both dask and ray\n",
        "#\n",
        "#importing the library\n",
        "import pandas as pd\n",
        "import modin.pandas as pd\n",
        "import numpy as np\n",
        "import ray\n",
        "ray.shutdown()\n",
        "ray.init()\n",
        "'''"
      ],
      "execution_count": null,
      "outputs": []
    },
    {
      "cell_type": "code",
      "metadata": {
        "id": "2QVYJi7XzP-8"
      },
      "source": [
        "'''\n",
        "#importing os\n",
        "import os\n",
        "os.environ[\"MODIN_ENGINE\"] = \"ray\"  # Modin will use Ray\n",
        "os.environ[\"MODIN_ENGINE\"] = \"dask\"  # Modin will use Dask\n",
        "'''"
      ],
      "execution_count": null,
      "outputs": []
    },
    {
      "cell_type": "code",
      "metadata": {
        "id": "13vZwcH_mzpn"
      },
      "source": [
        "'''\n",
        "# loading and reading the dataset with modin\n",
        "import modin.pandas as pd\n",
        "from distributed import Client\n",
        "client = Client()\n",
        "import time\n",
        "'''\n",
        "\n"
      ],
      "execution_count": null,
      "outputs": []
    },
    {
      "cell_type": "code",
      "metadata": {
        "id": "AVc4nnHeGQS4"
      },
      "source": [
        "'''\n",
        "start_time = time.time()\n",
        "df1 = pd.read_csv(\"/content/drive/MyDrive/data_glacier_intern/online_trans.csv\")\n",
        "end_time = time.time()\n",
        "print(\"modin estimated loading time: = {}\".format(end_time-start_time))\n",
        "print(\"\\n\") #break\n",
        "\n",
        "#getting the first 5 colums.head()\n",
        "df1.head()\n",
        "'''"
      ],
      "execution_count": null,
      "outputs": []
    },
    {
      "cell_type": "markdown",
      "metadata": {
        "id": "VkvGO3JbhSen"
      },
      "source": [
        "NOTE: crashing thus i was unable to run the codes above."
      ]
    },
    {
      "cell_type": "markdown",
      "metadata": {
        "id": "Oro0L0Z84-SJ"
      },
      "source": [
        "## File loading conclusion\n",
        "\n",
        "While loading big files, i came to this conclusion\n",
        "1. Dask is much faster compared to others; it take about 0.0125 seconds to load the big file.\n",
        "2. Datatable cames second, as it is slower loading big file compared to dask.it took about 2.6 minutes (about 157 seconds).\n",
        "3.config file came in 3rd, taking about 2.8 minutes to load (about 169 seconds)\n",
        "4. Pandas came in last, taking about 2.86 minutes(about 171 seconds).\n",
        "\n",
        "Therefore, Dask is the best when loading big files."
      ]
    },
    {
      "cell_type": "markdown",
      "metadata": {
        "id": "Pt3BSrS1UbXP"
      },
      "source": [
        "## **Creating a file in pipe separated text file (|) in gz format**.\n",
        "\n",
        "\n",
        "\n",
        "\n",
        "\n",
        "\n",
        "\n"
      ]
    },
    {
      "cell_type": "code",
      "metadata": {
        "id": "XVXYdARQGQOR",
        "colab": {
          "base_uri": "https://localhost:8080/"
        },
        "outputId": "36c37b06-5e82-4948-ea5d-fcc0271c9ed9"
      },
      "source": [
        "import gzip \n",
        "\n",
        "while True:\n",
        "    if util.col_header_val(trans_dask,config_data)==0:\n",
        "        print(\"---------------------------------------------\")\n",
        "        print(\"Validation Failed! Please, check file columns!\")\n",
        "    else:\n",
        "        print(\"Column Validation Passed\")\n",
        "        input = open('online_trans.csv', 'rb')\n",
        "        s = input.read()\n",
        "        input.close()\n",
        "        \n",
        "        output = gzip.GzipFile('trans_dask.gz','wb')\n",
        "        output.write(s)\n",
        "        output.close()\n",
        "        \n",
        "      \n",
        "        print(\"Your Dataframe has been compressed to a .gzip file in the same folder.\")\n",
        "    break\n"
      ],
      "execution_count": 29,
      "outputs": [
        {
          "output_type": "stream",
          "text": [
            "column name and column length validation passed\n",
            "Column Validation Passed\n",
            "Your Dataframe has been compressed to a .gzip file in the same folder.\n"
          ],
          "name": "stdout"
        }
      ]
    },
    {
      "cell_type": "markdown",
      "metadata": {
        "id": "l3_vUP_Od6Gc"
      },
      "source": [
        "## **Create a summary of the file:**\n",
        "\n",
        "1. Total number of rows,\n",
        "\n",
        "2. total number of columns\n",
        "\n",
        "2. file size"
      ]
    },
    {
      "cell_type": "code",
      "metadata": {
        "colab": {
          "base_uri": "https://localhost:8080/"
        },
        "id": "Vnd2N_yKdxnD",
        "outputId": "c2d49ac2-2d5f-4d3b-a8b2-830f5e3ad1d6"
      },
      "source": [
        "#total number of the rows\n",
        "print(\"The dataset has  {} rows\".format(len(trans_dask)))"
      ],
      "execution_count": 29,
      "outputs": [
        {
          "output_type": "stream",
          "text": [
            "The dataset has  42448764 rows\n"
          ],
          "name": "stdout"
        }
      ]
    },
    {
      "cell_type": "code",
      "metadata": {
        "colab": {
          "base_uri": "https://localhost:8080/"
        },
        "id": "Ue7BQGTMc0WD",
        "outputId": "d6e32b31-8fc6-4b57-c4ff-761d10889bb5"
      },
      "source": [
        "#checking number of columns\n",
        "len(trans_dask.columns)\n",
        "print(\"The dataset has {} columns\" .format(len(trans_dask.columns)))"
      ],
      "execution_count": 25,
      "outputs": [
        {
          "output_type": "stream",
          "text": [
            "The dataset has 9 columns\n"
          ],
          "name": "stdout"
        }
      ]
    },
    {
      "cell_type": "code",
      "metadata": {
        "id": "XLznl0vydB6u",
        "colab": {
          "base_uri": "https://localhost:8080/"
        },
        "outputId": "54971ef2-bd0d-4b67-f62c-272cc0bf3a39"
      },
      "source": [
        "import os\n",
        "#file size\n",
        "file_size = os.path.getsize(\"/content/drive/MyDrive/data_glacier_intern/online_trans.csv\")\n",
        "\n",
        "print(\"The file size is: {}\" .format(file_size))"
      ],
      "execution_count": 30,
      "outputs": [
        {
          "output_type": "stream",
          "text": [
            "The file size is: 5668612855\n"
          ],
          "name": "stdout"
        }
      ]
    }
  ]
}